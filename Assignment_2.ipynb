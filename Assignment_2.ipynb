{
 "cells": [
  {
   "cell_type": "code",
   "execution_count": null,
   "id": "bc780603-d2d9-483d-bc86-38d9743a35b9",
   "metadata": {},
   "outputs": [],
   "source": [
    "# Ques 1 : How do you comment code in Python? What are the different types of comments?\n",
    "#SOLUTION :\n",
    "\n",
    "#  # We have two ways to cooment the code in python \n",
    "\n",
    "# (i) By using '#' \n",
    "# (ii) By using ' \"\"\" ' at starting and ending of code \n",
    "# for example:\n",
    "#     # This is single line comment !\n",
    "#     \"\"\" This is mutiple line comment !\"\"\""
   ]
  },
  {
   "cell_type": "code",
   "execution_count": 3,
   "id": "8b9c4899-84a0-4d94-b83b-1128b9835bdc",
   "metadata": {},
   "outputs": [],
   "source": [
    "#Ques 2 : What are variables in Python? How do you declare and assign values to variables?\n",
    "#SOLUTION :\n",
    "\n",
    "# \"\"\" In Python, variables are used to store and manage data. A variable is essentially a symbolic name or identifier for\n",
    "# a value that can be changed or updated during the execution of a program.\"\"\"\n",
    "# # To assign values to variables like : \n",
    "    # variable_name = value \n",
    "# #     a = 10\n",
    "     \n",
    "# # we have variable 'a' here that assign by value 10 in it . "
   ]
  },
  {
   "cell_type": "code",
   "execution_count": 6,
   "id": "b6c92c01-355e-49b6-bf4e-2884e2e6485e",
   "metadata": {},
   "outputs": [],
   "source": [
    "# # Ques 3 : How do you convert one data type to another in Python?\n",
    "#SOLUTION : \n",
    "\n",
    "#  In Python, you can convert one data type to another using type conversion functions or techniques.\n",
    "    \n",
    "# int(): Converts to an integer.\n",
    "#     x = 5.6\n",
    "#     y = int(x)  # y is 5 (integer)\n",
    "    \n",
    "# float(): Converts to a float.\n",
    "#     x = 5\n",
    "#     y = float(x)  # y is 5.0 (float)\n",
    "    \n",
    "#  str(): Converts to a string.\n",
    "#     x = 42\n",
    "#     y = str(x)  # y is \"42\" (string)\n",
    "    \n",
    "    \n",
    "# # Convert a list to a tuple\n",
    "#     my_list = [1, 2, 3]\n",
    "#     my_tuple = tuple(my_list)\n",
    "\n",
    "# # Convert a string to a list of characters\n",
    "#     my_string = \"Hello\"\n",
    "#     char_list = list(my_string)"
   ]
  },
  {
   "cell_type": "code",
   "execution_count": 7,
   "id": "dd796203-b292-4e8a-8505-3489c5fcb363",
   "metadata": {},
   "outputs": [],
   "source": [
    "# Ques 4 : How do you write and execute a Python script from the command line?\n",
    " #SOLUTION :\n",
    "        \n",
    "#      To write and execute a Python script from the command line: \n",
    "\n",
    "# **Writing a Python Script**:\n",
    "# 1. Open a text editor (such as Notepad on Windows, TextEdit on macOS, or a code editor like Visual Studio Code, Sublime Text, or Atom).\n",
    "# 2. Write your Python code in the text editor. For example, you can create a simple \"Hello, World!\" script:\n",
    "\n",
    "#                     print(\"Hello, World!\")\n",
    "\n",
    "# 3. Save the file with a `.py` extension. For example, you can save it as \"hello.py\".\n",
    "\n",
    "# **Executing the Python Script from the Command Line**:\n",
    "\n",
    "# After saving your Python script, you can run it from the command line as follows:\n",
    "# 1. Open your command-line terminal (Command Prompt on Windows, Terminal on macOS, or a terminal emulator on Linux).\n",
    "# 2. Navigate to the directory where your Python script is saved. You can use the `cd` command to change to the appropriate directory. For example:\n",
    "\n",
    "#                 cd /path/to/your/script/directory\n",
    "\n",
    "# 3. Once you're in the correct directory, you can run the script using the `python` command followed by the script's filename. For example:\n",
    "\n",
    "#                         python hello.py\n",
    "\n",
    "\n",
    "# Replace \"hello.py\" with the name of your Python script if it's named differently.\n",
    "\n",
    "# 4. Press Enter, and your Python script will be executed. In this case, you will see \"Hello, World!\" printed to the command-line terminal.\n",
    "\n",
    "# If you have multiple versions of Python installed on your system, you may need to specify the version explicitly when running the script. For example,\n",
    "# if you have Python 3 installed, you can use:\n",
    "\n",
    "#                         python3 hello.py\n",
    "\n",
    "\n",
    "# This ensures that the script is executed with the correct Python interpreter version.\n",
    "\n",
    "\n"
   ]
  },
  {
   "cell_type": "code",
   "execution_count": 8,
   "id": "6bb43dec-75c4-4469-be45-e18cd195a0f7",
   "metadata": {},
   "outputs": [
    {
     "name": "stdout",
     "output_type": "stream",
     "text": [
      "[2, 3]\n"
     ]
    }
   ],
   "source": [
    "# Ques 5 : Given a list my_list = [1, 2, 3, 4, 5], write the code to slice the list and obtain the sub-list [2, 3].\n",
    "# SOLUTION : \n",
    "\n",
    "#      We  can slice the list my_list to obtain the sub-list [2, 3] using Python's list slicing. Here's the code to do that:\n",
    "\n",
    "\n",
    "my_list = [1, 2, 3, 4, 5]\n",
    "sub_list = my_list[1:3]  # Slice from index 1 (inclusive) to 3 (exclusive)\n",
    "print(sub_list)"
   ]
  },
  {
   "cell_type": "code",
   "execution_count": 9,
   "id": "52f18e1d-f1af-4b7e-a5af-4e6edf91cd37",
   "metadata": {},
   "outputs": [],
   "source": [
    "# Ques 6 : What is a complex number in mathematics, and how is it represented in Python?\n",
    "#SOLUTION : \n",
    "    \n",
    "# In mathematics, a complex number is a number that can be expressed in the form a + bi, where a and b are real numbers, and i is the imaginary unit.\n",
    "# The imaginary unit i is defined as the square root of -1. Complex numbers are used to represent quantities that involve both a real part and an imaginary part. \n",
    "\n",
    "# In Python, complex numbers are represented by using the j symbol to denote the imaginary unit i (i.e., the square root of -1). \n",
    "# The real and imaginary parts of a complex number are combined using the + operator, and the imaginary part is multiplied by j. \n",
    "#                     z = 3 + 4j\n"
   ]
  },
  {
   "cell_type": "code",
   "execution_count": 10,
   "id": "0cd881c4-36a8-4c92-aaa9-91e91f310cdf",
   "metadata": {},
   "outputs": [],
   "source": [
    "# Ques 7 : What is the correct way to declare a variable named age and assign the value 25 to it?\n",
    "# SOLUTION :\n",
    "\n",
    "# The correct way to declare a variable named age and assign the value 25 to it in Python is : \n",
    "#     age = 25\n",
    "\n",
    "# 'age' is the variable name.\n",
    "# '='   operator is the assignment operator, which assigns the value on the right side to the variable on the left side.\n",
    "# '25'  is the value being assigned to the age variable."
   ]
  },
  {
   "cell_type": "code",
   "execution_count": 20,
   "id": "bb0600d9-1c40-415e-9d7e-f21a656ec0a3",
   "metadata": {},
   "outputs": [],
   "source": [
    "# Ques 8 : Declare a variable named price and assign the value 9.99 to it. What data type does this variable\n",
    "# belong to?\n",
    "# # SOLUTION : \n",
    "\n",
    "# price = 9.99\n",
    "\n",
    "\n",
    "# The variable \"price\" belongs to the data type \"float.\" In Python, numbers with decimal points are typically represented as floating-point numbers (floats).\n",
    "# Floats are used to store real numbers, including both integers and decimal values. In this case, \"9.99\" is a floating-point number."
   ]
  },
  {
   "cell_type": "code",
   "execution_count": 21,
   "id": "dc4b6a59-c4e6-4064-956d-00c74351fa35",
   "metadata": {},
   "outputs": [
    {
     "name": "stdout",
     "output_type": "stream",
     "text": [
      "PARAS KAUSHIK !\n"
     ]
    }
   ],
   "source": [
    "# Ques 9 : Create a variable named name and assign your full name to it as a string. How would you print the\n",
    "# value of this variable?\n",
    "#SOLUTION : \n",
    "\n",
    "name = \"PARAS KAUSHIK !\"\n",
    "    \n",
    "# To print the name --\n",
    "print(name)"
   ]
  },
  {
   "cell_type": "code",
   "execution_count": 22,
   "id": "2afff730-19e1-46e4-aa50-352aae5ef166",
   "metadata": {},
   "outputs": [
    {
     "name": "stdout",
     "output_type": "stream",
     "text": [
      "World\n"
     ]
    }
   ],
   "source": [
    "# Ques 10 : Given the string \"Hello, World!\", extract the substring \"World\".\n",
    "#SOLUTION : \n",
    "\n",
    "# To extract the substring \"World\" from the given string we'll use string slicing -[7:12] will be the string indexes to extract World from the given string \n",
    "\n",
    "given = \"Hello, World!\"\n",
    "substring = given[7:12]\n",
    "print(substring)\n"
   ]
  },
  {
   "cell_type": "code",
   "execution_count": 23,
   "id": "f1cb66ef-00c4-4390-82cd-90cea6e9b210",
   "metadata": {},
   "outputs": [],
   "source": [
    "# Ques 11 : Create a variable named \"is_student\" and assign it a boolean value indicating whether you are\n",
    "# currently a student or not.\n",
    "#SOLUTION :\n",
    "\n",
    "is_student = True  # If you are currently a student\n",
    "# OR\n",
    "is_student = False  # If you are not currently a student\n",
    "\n",
    "# 'is_student' is the variable name.\n",
    "# 'True or False' is the boolean value, depending on your current student status.\n"
   ]
  }
 ],
 "metadata": {
  "kernelspec": {
   "display_name": "Python 3 (ipykernel)",
   "language": "python",
   "name": "python3"
  },
  "language_info": {
   "codemirror_mode": {
    "name": "ipython",
    "version": 3
   },
   "file_extension": ".py",
   "mimetype": "text/x-python",
   "name": "python",
   "nbconvert_exporter": "python",
   "pygments_lexer": "ipython3",
   "version": "3.10.8"
  }
 },
 "nbformat": 4,
 "nbformat_minor": 5
}
